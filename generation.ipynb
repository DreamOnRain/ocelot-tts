{
 "cells": [
  {
   "cell_type": "code",
   "execution_count": 1,
   "metadata": {},
   "outputs": [
    {
     "name": "stderr",
     "output_type": "stream",
     "text": [
      "/home/jiyuyu/miniconda3/envs/tts/lib/python3.12/site-packages/torch/nn/utils/weight_norm.py:134: FutureWarning: `torch.nn.utils.weight_norm` is deprecated in favor of `torch.nn.utils.parametrizations.weight_norm`.\n",
      "  WeightNorm.apply(module, name, dim)\n",
      "/home/jiyuyu/workspace/vits/utils.py:21: FutureWarning: You are using `torch.load` with `weights_only=False` (the current default value), which uses the default pickle module implicitly. It is possible to construct malicious pickle data which will execute arbitrary code during unpickling (See https://github.com/pytorch/pytorch/blob/main/SECURITY.md#untrusted-models for more details). In a future release, the default value for `weights_only` will be flipped to `True`. This limits the functions that could be executed during unpickling. Arbitrary objects will no longer be allowed to be loaded via this mode unless they are explicitly allowlisted by the user via `torch.serialization.add_safe_globals`. We recommend you start setting `weights_only=True` for any use case where you don't have full control of the loaded file. Please open an issue on GitHub for any issues related to this experimental feature.\n",
      "  checkpoint_dict = torch.load(checkpoint_path, map_location='cpu')\n"
     ]
    },
    {
     "name": "stdout",
     "output_type": "stream",
     "text": [
      "INFO:root:Loaded checkpoint './logs/csmsc/G_343000.pth' (iteration 839)\n"
     ]
    },
    {
     "name": "stderr",
     "output_type": "stream",
     "text": [
      "Building prefix dict from the default dictionary ...\n"
     ]
    },
    {
     "name": "stdout",
     "output_type": "stream",
     "text": [
      "DEBUG:jieba:Building prefix dict from the default dictionary ...\n"
     ]
    },
    {
     "name": "stderr",
     "output_type": "stream",
     "text": [
      "Loading model from cache /tmp/jieba.cache\n"
     ]
    },
    {
     "name": "stdout",
     "output_type": "stream",
     "text": [
      "DEBUG:jieba:Loading model from cache /tmp/jieba.cache\n"
     ]
    },
    {
     "name": "stderr",
     "output_type": "stream",
     "text": [
      "Loading model cost 0.524 seconds.\n"
     ]
    },
    {
     "name": "stdout",
     "output_type": "stream",
     "text": [
      "DEBUG:jieba:Loading model cost 0.524 seconds.\n"
     ]
    },
    {
     "name": "stderr",
     "output_type": "stream",
     "text": [
      "Prefix dict has been built successfully.\n"
     ]
    },
    {
     "name": "stdout",
     "output_type": "stream",
     "text": [
      "DEBUG:jieba:Prefix dict has been built successfully.\n"
     ]
    },
    {
     "ename": "KeyboardInterrupt",
     "evalue": "",
     "output_type": "error",
     "traceback": [
      "\u001b[0;31m---------------------------------------------------------------------------\u001b[0m",
      "\u001b[0;31mKeyboardInterrupt\u001b[0m                         Traceback (most recent call last)",
      "Cell \u001b[0;32mIn[1], line 33\u001b[0m\n\u001b[1;32m     29\u001b[0m TEXT \u001b[38;5;241m=\u001b[39m \u001b[38;5;124m\"\u001b[39m\u001b[38;5;124m早上好\u001b[39m\u001b[38;5;124m\"\u001b[39m\n\u001b[1;32m     31\u001b[0m _ \u001b[38;5;241m=\u001b[39m utils\u001b[38;5;241m.\u001b[39mload_checkpoint(MODEL_CHECKPOINT, net_g, \u001b[38;5;28;01mNone\u001b[39;00m)\n\u001b[0;32m---> 33\u001b[0m phonemes \u001b[38;5;241m=\u001b[39m \u001b[43mget_pinyin_from_text\u001b[49m\u001b[43m(\u001b[49m\u001b[43mTEXT\u001b[49m\u001b[43m)\u001b[49m\n\u001b[1;32m     34\u001b[0m \u001b[38;5;28mprint\u001b[39m(phonemes)\n\u001b[1;32m     36\u001b[0m stn_tst \u001b[38;5;241m=\u001b[39m get_text(phonemes, hps)\n",
      "File \u001b[0;32m~/workspace/vits/chinese.py:221\u001b[0m, in \u001b[0;36mget_pinyin_from_text\u001b[0;34m(text)\u001b[0m\n\u001b[1;32m    219\u001b[0m pause_set \u001b[38;5;241m=\u001b[39m {\u001b[38;5;124m'\u001b[39m\u001b[38;5;124m#\u001b[39m\u001b[38;5;124m'\u001b[39m, \u001b[38;5;124m'\u001b[39m\u001b[38;5;124m$\u001b[39m\u001b[38;5;124m'\u001b[39m, \u001b[38;5;124m'\u001b[39m\u001b[38;5;124m%\u001b[39m\u001b[38;5;124m'\u001b[39m, \u001b[38;5;124m'\u001b[39m\u001b[38;5;124m^\u001b[39m\u001b[38;5;124m'\u001b[39m, \u001b[38;5;124m'\u001b[39m\u001b[38;5;124m&\u001b[39m\u001b[38;5;124m'\u001b[39m, \u001b[38;5;124m'\u001b[39m\u001b[38;5;124m?\u001b[39m\u001b[38;5;124m'\u001b[39m, \u001b[38;5;124m'\u001b[39m\u001b[38;5;124m!\u001b[39m\u001b[38;5;124m'\u001b[39m, \u001b[38;5;124m'\u001b[39m\u001b[38;5;124m>\u001b[39m\u001b[38;5;124m'\u001b[39m, \u001b[38;5;124m'\u001b[39m\u001b[38;5;124m<\u001b[39m\u001b[38;5;124m'\u001b[39m, \u001b[38;5;124m'\u001b[39m\u001b[38;5;124m.\u001b[39m\u001b[38;5;124m'\u001b[39m}\n\u001b[1;32m    220\u001b[0m new_line \u001b[38;5;241m=\u001b[39m []\n\u001b[0;32m--> 221\u001b[0m pinyin_line \u001b[38;5;241m=\u001b[39m \u001b[43mget_phoneme_from_text\u001b[49m\u001b[43m(\u001b[49m\u001b[43mtext\u001b[49m\u001b[43m)\u001b[49m\u001b[38;5;241m.\u001b[39msplit()\n\u001b[1;32m    222\u001b[0m \u001b[38;5;28;01mfor\u001b[39;00m index, pinyin \u001b[38;5;129;01min\u001b[39;00m \u001b[38;5;28menumerate\u001b[39m(pinyin_line):\n\u001b[1;32m    223\u001b[0m     \u001b[38;5;28;01mif\u001b[39;00m pinyin \u001b[38;5;129;01min\u001b[39;00m pause_set:\n",
      "File \u001b[0;32m~/workspace/vits/chinese.py:198\u001b[0m, in \u001b[0;36mget_phoneme_from_text\u001b[0;34m(text, sandhi)\u001b[0m\n\u001b[1;32m    196\u001b[0m stopwords \u001b[38;5;241m=\u001b[39m get_stopwords()\n\u001b[1;32m    197\u001b[0m \u001b[38;5;66;03m# seg_list = list(jieba.cut(text, cut_all=False))\u001b[39;00m\n\u001b[0;32m--> 198\u001b[0m seg_list \u001b[38;5;241m=\u001b[39m \u001b[43mfenci_cutall\u001b[49m\u001b[43m(\u001b[49m\u001b[43mtext\u001b[49m\u001b[43m)\u001b[49m\n\u001b[1;32m    199\u001b[0m chinese_line \u001b[38;5;241m=\u001b[39m \u001b[38;5;124m'\u001b[39m\u001b[38;5;124m \u001b[39m\u001b[38;5;124m'\u001b[39m\u001b[38;5;241m.\u001b[39mjoin(seg_list)\n\u001b[1;32m    200\u001b[0m pinyin_line \u001b[38;5;241m=\u001b[39m \u001b[38;5;124m'\u001b[39m\u001b[38;5;124m \u001b[39m\u001b[38;5;124m'\u001b[39m\u001b[38;5;241m.\u001b[39mjoin(lazy_pinyin(chinese_line, style\u001b[38;5;241m=\u001b[39mStyle\u001b[38;5;241m.\u001b[39mTONE3, tone_sandhi\u001b[38;5;241m=\u001b[39msandhi, neutral_tone_with_five\u001b[38;5;241m=\u001b[39m\u001b[38;5;28;01mTrue\u001b[39;00m))\n",
      "File \u001b[0;32m~/workspace/vits/chinese.py:278\u001b[0m, in \u001b[0;36mfenci_cutall\u001b[0;34m(text)\u001b[0m\n\u001b[1;32m    276\u001b[0m \u001b[38;5;28;01mwhile\u001b[39;00m i \u001b[38;5;241m<\u001b[39m \u001b[38;5;28mlen\u001b[39m(seg):\n\u001b[1;32m    277\u001b[0m     \u001b[38;5;28;01mfor\u001b[39;00m word \u001b[38;5;129;01min\u001b[39;00m word_list:\n\u001b[0;32m--> 278\u001b[0m         \u001b[38;5;28;01mif\u001b[39;00m \u001b[43mseg\u001b[49m\u001b[38;5;241;43m.\u001b[39;49m\u001b[43mstartswith\u001b[49m\u001b[43m(\u001b[49m\u001b[43mword\u001b[49m\u001b[43m,\u001b[49m\u001b[43m \u001b[49m\u001b[43mi\u001b[49m\u001b[43m)\u001b[49m:\n\u001b[1;32m    279\u001b[0m             result\u001b[38;5;241m.\u001b[39mappend(word)\n\u001b[1;32m    280\u001b[0m             i \u001b[38;5;241m+\u001b[39m\u001b[38;5;241m=\u001b[39m \u001b[38;5;28mlen\u001b[39m(word)\n",
      "\u001b[0;31mKeyboardInterrupt\u001b[0m: "
     ]
    }
   ],
   "source": [
    "import IPython.display as ipd\n",
    "import torch\n",
    "import commons\n",
    "import utils\n",
    "from models import SynthesizerTrn\n",
    "from text.symbols import symbols_zh\n",
    "from text import text_to_sequence\n",
    "import soundfile as sf\n",
    "from chinese import get_phoneme_from_text, get_pinyin_from_text\n",
    "\n",
    "\n",
    "def get_text(text, hps):\n",
    "    text_norm = text_to_sequence(text, hps.data.text_cleaners, phoneme=True)\n",
    "    if hps.data.add_blank:\n",
    "        text_norm = commons.intersperse(text_norm, 0)\n",
    "    text_norm = torch.LongTensor(text_norm)\n",
    "    return text_norm\n",
    "\n",
    "hps = utils.get_hparams_from_file(\"./configs/csmsc.json\")\n",
    "net_g = SynthesizerTrn(\n",
    "    len(symbols_zh),\n",
    "    hps.data.filter_length // 2 + 1,\n",
    "    hps.train.segment_size // hps.data.hop_length,\n",
    "    **hps.model)#.cuda()\n",
    "_ = net_g.eval()\n",
    "\n",
    "\n",
    "MODEL_CHECKPOINT = \"./logs/csmsc/G_408000.pth\"\n",
    "TEXT = \"早上好\"\n",
    "\n",
    "_ = utils.load_checkpoint(MODEL_CHECKPOINT, net_g, None)\n",
    "\n",
    "phonemes = get_pinyin_from_text(TEXT)\n",
    "print(phonemes)\n",
    "\n",
    "stn_tst = get_text(phonemes, hps)\n",
    "with torch.no_grad():\n",
    "    x_tst = stn_tst.cuda().unsqueeze(0)\n",
    "    x_tst_lengths = torch.LongTensor([stn_tst.size(0)]).cuda()\n",
    "    net_g.to(x_tst.device)\n",
    "    audio = net_g.infer(x_tst, x_tst_lengths, noise_scale=.667, noise_scale_w=0.8, length_scale=1)[0][0,0].data.cpu().float().numpy()\n",
    "ipd.display(ipd.Audio(audio, rate=hps.data.sampling_rate, normalize=False))\n",
    "sf.write('chinese.wav', audio, hps.data.sampling_rate)"
   ]
  },
  {
   "cell_type": "code",
   "execution_count": 5,
   "metadata": {},
   "outputs": [
    {
     "name": "stdout",
     "output_type": "stream",
     "text": [
      "funasr version: 1.1.6.\n",
      "Check update of funasr, and it would cost few times. You may disable it by set `disable_update=True` in AutoModel\n",
      "You are using the latest version of funasr-1.1.6\n"
     ]
    },
    {
     "name": "stderr",
     "output_type": "stream",
     "text": [
      "2024-09-20 04:05:55,525 - modelscope - WARNING - Using branch: master as version is unstable, use with caution\n",
      "\n",
      "\u001b[A/home/jiyuyu/miniconda3/envs/tts/lib/python3.12/site-packages/funasr/models/paraformer/model.py:251: FutureWarning: `torch.cuda.amp.autocast(args...)` is deprecated. Please use `torch.amp.autocast('cuda', args...)` instead.\n",
      "  with autocast(False):\n",
      "\n",
      "\u001b[A\n",
      "\u001b[A\n",
      "rtf_avg: 0.434: 100%|\u001b[34m██████████\u001b[0m| 1/1 [00:01<00:00,  1.15s/it]"
     ]
    },
    {
     "name": "stdout",
     "output_type": "stream",
     "text": [
      "[{'key': 'chinese', 'text': '你 好 这 里 是 新 加 坡 国 立 大 学', 'timestamp': [[330, 510], [510, 750], [770, 910], [910, 1030], [1030, 1230], [1230, 1370], [1370, 1610], [1610, 1790], [1790, 1890], [1890, 2090], [2090, 2250], [2250, 2485]]}]\n"
     ]
    },
    {
     "name": "stderr",
     "output_type": "stream",
     "text": [
      "\n"
     ]
    }
   ],
   "source": [
    "from funasr import AutoModel\n",
    "\n",
    "model = AutoModel(\n",
    "    model=\"paraformer-zh\",\n",
    ")\n",
    "\n",
    "res = model.generate(input=\"chinese.wav\")\n",
    "print(res)"
   ]
  }
 ],
 "metadata": {
  "kernelspec": {
   "display_name": "Python 3",
   "language": "python",
   "name": "python3"
  },
  "language_info": {
   "codemirror_mode": {
    "name": "ipython",
    "version": 3
   },
   "file_extension": ".py",
   "mimetype": "text/x-python",
   "name": "python",
   "nbconvert_exporter": "python",
   "pygments_lexer": "ipython3",
   "version": "3.12.5"
  }
 },
 "nbformat": 4,
 "nbformat_minor": 4
}
